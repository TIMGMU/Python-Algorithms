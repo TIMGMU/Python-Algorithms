{
 "cells": [
  {
   "cell_type": "markdown",
   "metadata": {},
   "source": [
    "## IT309 - Module 9 - Search Trees"
   ]
  },
  {
   "cell_type": "markdown",
   "metadata": {},
   "source": [
    "### Tim Nguyen IT309 CA3 - BST Delete Method"
   ]
  },
  {
   "cell_type": "markdown",
   "metadata": {},
   "source": [
    "### CA3 (In-class assignment #3)   \n",
    "   \n",
    "This in-class assignment is meant to help you launch the code you need to write for Assignment #5.  This carries 10 points, but A5 carries 40, so the combined total is 50.  \n",
    "  \n",
    "Build a BST from a single small transaction file per the Assignment #5 specification   \n",
    "Given: Binary Search Tree (BST) code (except for the delete method), and the parenthesize function        \n",
    "Given: File of BST input transactions (.txt format)\n",
    "   \n",
    "Steps (see cells below):  \n",
    "(1) Create the BST by instantiating a BinarySearchTree object   \n",
    "(2) Read the transaction file, create a transaction list of lists, with each sublist being the single transaction [trans code, integer] \n",
    "(3) add code to the BST delete method to detect case (1) in which the node to be deleted is not in the tree      \n",
    "(4) add code to the BST delete method for case (2) to delete a node with no children     \n",
    "(5) Create code to process the transactions \"I\", \"R\", and \"D\"   \n",
    "(6) \"I\" transactions run the insert method, \"R\" the delete method, \"D\" runs the parenthesize function     \n",
    "(7) Run the code using a sample file or start from a sample list-of-lists   \n",
    "   \n",
    "Complete as much of this assignment as possible in class, then upload completed code, including execution run(s), to the BB assignment site for CA3.   \n",
    "\n",
    "   "
   ]
  },
  {
   "cell_type": "markdown",
   "metadata": {},
   "source": [
    "### Binary Search Tree - based on the SimplifiedLinkedBinaryTree - adapted from Goodrich, et al.  \n",
    "#### Use this code to create the BST for this assignment and Assignment #5.  "
   ]
  },
  {
   "cell_type": "code",
   "execution_count": 145,
   "metadata": {},
   "outputs": [],
   "source": [
    "class BinarySearchTree():      # BST\n",
    "  \"\"\"Simplified linked representation of a binary tree structure - only the essentials included.\"\"\"\n",
    "\n",
    "  #-------------------------- nested Node class --------------------------\n",
    "  class Node:\n",
    "    \"\"\"Lightweight, nonpublic class for storing a node.\"\"\"\n",
    "    def __init__(self, element, parent=None, left=None, right=None):\n",
    "      self.element = element\n",
    "      self.parent = parent\n",
    "      self.left = left\n",
    "      self.right = right\n",
    "\n",
    " \n",
    "  #-------------------------- SLBT constructor --------------------------\n",
    "  def __init__(self):\n",
    "    \"\"\"Create an initially empty binary tree.\"\"\"\n",
    "    self.root = None\n",
    "    self.size = 0\n",
    "\n",
    "  #-------------------------- accessors --------------------------\n",
    "  def __len__(self):\n",
    "    \"\"\"Return the total number of elements in the tree.\"\"\"\n",
    "    return self.size\n",
    "  \n",
    "  def root(self):\n",
    "    \"\"\"Return the root Position of the tree (or None if tree is empty).\"\"\"\n",
    "    return self.root\n",
    "\n",
    "  def parent(self, p):\n",
    "    \"\"\"Return the Position of p's parent (or None if p is root).\"\"\"\n",
    "    return p.parent\n",
    "\n",
    "  def left(self, p):\n",
    "    \"\"\"Return the Position of p's left child (or None if no left child).\"\"\"\n",
    "    return p.left\n",
    "\n",
    "  def right(self, p):\n",
    "    \"\"\"Return the Position of p's right child (or None if no right child).\"\"\"\n",
    "    return p.right\n",
    "\n",
    "  def element(self, p):\n",
    "    return p.element\n",
    "\n",
    "  def is_root(self, p):\n",
    "    if p.parent is None:\n",
    "        return True\n",
    "    return False\n",
    "\n",
    "  def is_leaf (self, p):\n",
    "    if p.left is None and p.right is None:\n",
    "        return True\n",
    "    return False\n",
    "\n",
    "  def num_children(self, p):\n",
    "    \"\"\"Return the number of children of Position p.\"\"\"\n",
    "    count = 0\n",
    "    if p.left is not None:     # left child exists\n",
    "      count += 1\n",
    "    if p.right is not None:    # right child exists\n",
    "      count += 1\n",
    "    return count\n",
    "\n",
    "  def depth(self, p):\n",
    "    \"\"\"Return the number of levels separating Position p from the root.\"\"\"\n",
    "    if self.is_root(p):\n",
    "      return 0\n",
    "    else:\n",
    "      return 1 + self.depth(p.parent)\n",
    "\n",
    "  #-------------------------- mutators --------------------------\n",
    "  def add_root(self, e):\n",
    "    \"\"\"Place element e at the root of an empty tree and return new Position.\n",
    "\n",
    "    Raise ValueError if tree nonempty.\n",
    "    \"\"\"\n",
    "    if self.root is not None:\n",
    "      raise ValueError('Root exists')\n",
    "    self.size = 1\n",
    "    self.root = self.Node(e)\n",
    "    return self.root\n",
    "\n",
    "  def add_left(self, p, e):\n",
    "    \"\"\"Create a new left child for Position p, storing element e.\n",
    "    Return the Position of new node.\n",
    "    Raise ValueError if Position p is invalid or p already has a left child.\n",
    "    \"\"\"\n",
    "    if p.left is not None:\n",
    "      raise ValueError('Left child exists')\n",
    "    self.size += 1\n",
    "    p.left = self.Node(e, parent = p)            # p is the parent\n",
    "    return p.left\n",
    "\n",
    "  def add_right(self, p, e):\n",
    "    \"\"\"Create a new right child for Position p, storing element e.\n",
    "    Return the Position of new node.\n",
    "    Raise ValueError if Position p is invalid or p already has a right child.\n",
    "    \"\"\"\n",
    "    if p.right is not None:\n",
    "      raise ValueError('Right child exists')\n",
    "    self.size += 1\n",
    "    p.right = self.Node(e, parent = p)          # node is its parent\n",
    "    return p.right\n",
    "\n",
    "  def replace(self, p, e):\n",
    "    \"\"\"Replace the element at position p with e, and return old element.\"\"\"\n",
    "    old = p.element\n",
    "    p.element = e\n",
    "    return old\n",
    "\n",
    "  #------------------------------- BST utilities -------------------------------\n",
    "  def subtree_search(self, p, k):\n",
    "    \"\"\"Return Position 'p' of p's subtree having key value 'k', or last node searched.\n",
    "       Also return True if the key is found in the Tree, otherwise False.  \n",
    "       The search is unsuccessful when the next node to be examined is 'None'.     \"\"\"\n",
    "    if p is None: \n",
    "      return None, False\n",
    "    if k == p.element:                                 # found match - return position+True\n",
    "      return p, True                                         \n",
    "    elif k < p.element:                                # search left subtree\n",
    "      if self.left(p) is not None:\n",
    "        return self.subtree_search(self.left(p), k)   \n",
    "    else:                                              # search right subtree\n",
    "      if self.right(p) is not None:\n",
    "        return self.subtree_search(self.right(p), k)\n",
    "    return p, False          # signal 'not found' to the caller: position+False\n",
    "\n",
    "  def insert (self, k):\n",
    "      \"\"\" Insert a node with value 'k' into the correct spot in the tree. \"\"\"\n",
    "      addHere, found = self.subtree_search(self.root, k)\n",
    "      if found:\n",
    "        raise AlreadyInBST ('Element is already in the tree')  # key value already in the Tree\n",
    "      elif k < addHere.element:\n",
    "        self.add_left(addHere, k)\n",
    "      else:\n",
    "        self.add_right(addHere, k)\n",
    "  \n",
    "  def delete (self, k):\n",
    "      \"\"\" Delete a node with value 'k' if it is in the tree. Raise NotInBST if elt. not in tree. \"\"\"    \n",
    "      deleteThis, found = self.subtree_search(self.root, k)   # Find node to be deleted\n",
    "\n",
    "      # Cases: (1) element to be deleted is not in the tree, raise exception\n",
    "      #        (2) element has no children, just set it's parent's pointer to None\n",
    "      #        (3) element has one child: reset parent of 'k' to point to child\n",
    "      #        (4) element has two children: harder case \n",
    "      #\n",
    "      #   Insert your delete method code below.....\n",
    "      if found == False:\n",
    "          raise NotInBST('Element is not found')  #case #1 | if element to be deleted is not in the tree\n",
    "\n",
    "      if self.num_children(deleteThis) == 0:  #case #2  | if element has no children\n",
    "          parent = deleteThis.parent\n",
    "          if parent.left == deleteThis:\n",
    "              parent.left = None\n",
    "          else:\n",
    "              parent.right = None\n",
    "\n",
    "      elif self.num_children(deleteThis) == 1:  #case #3 | if element has one child\n",
    "          if deleteThis.left is not None:\n",
    "              child = deleteThis.left\n",
    "          else:\n",
    "              child = deleteThis.right\n",
    "\n",
    "          if deleteThis.parent is not None:\n",
    "              if deleteThis.parent.left == deleteThis:\n",
    "                  deleteThis.parent.left = child\n",
    "              else:\n",
    "                  deleteThis.parent.right = child\n",
    "              child.parent = deleteThis.parent\n",
    "          else:\n",
    "              self.root=child\n",
    "              if child is not None:\n",
    "                  child.parent = None\n",
    "        \n",
    "      elif self.num_children(deleteThis) == 2:   #case #4 | if element has two children\n",
    "          min_node, min_value = self.find_min(deleteThis.right)\n",
    "          deleteThis.element = min_value\n",
    "          self.delete(min_value)\n",
    "        \n",
    "\n",
    "  def removeNode (self, delNode, attNode):\n",
    "    \"\"\"Case 3 - deleted node 'delNode' has one child: 'attNode'. 'attNode' must\n",
    "       move up in the tree and be attached to the parent of 'delNode', but was \n",
    "       'delNode' a left or right child of parent?                                   \"\"\"\n",
    "    if delNode.parent.left == delNode: \n",
    "      delNode.parent.left = attNode     # 'delNode' was a left child\n",
    "    else: \n",
    "      delNode.parent.right = attNode    # 'delNode' was a right child      \n",
    "    attNode.parent = delNode.parent     # parent of child node is now deleted node's parent \n",
    "\n",
    "  def find_min(self, p):\n",
    "    \"\"\"Return key with minimum key (or None if empty).\"\"\"\n",
    "    if len(self) == 0:\n",
    "      return None\n",
    "    while p.left is not None:\n",
    "        p = p.left\n",
    "    return p, p.element\n",
    "\n",
    "  def find_max(self, p):\n",
    "    \"\"\"Return key with minimum key (or None if empty).\"\"\"\n",
    "    if len(self) == 0:\n",
    "      return None\n",
    "    while p.right is not None:\n",
    "        p = p.right\n",
    "    return p, p.element\n",
    "\n",
    "\n",
    "# BST Traversals --------------------------------------------------------- \n",
    "            \n",
    "#-----------------------------------------------------------------\n",
    "# inorder algorithm (recursive):\n",
    "#    if tree node is not empty:\n",
    "#        if the node has a left child call preorder on that node\n",
    "#        print the node's element\n",
    "#        if the node has a right child call preorder on that node\n",
    "#----------------------------------------------------------------\n",
    "  def inorder (self, pos):\n",
    "    \"\"\" Perform an inorder traversal of the current tree - print the elements. \"\"\"\n",
    "    if pos is not None:\n",
    "        if self.left(pos) is not None:    \n",
    "            self.inorder (self.left(pos))\n",
    "        print(self.element(pos))\n",
    "        if self.right(pos) is not None:\n",
    "            self.inorder (self.right(pos))            \n",
    "\n",
    "class AlreadyInBST (Exception):\n",
    "    pass\n",
    "\n",
    "class NotInBST (Exception):\n",
    "    pass\n"
   ]
  },
  {
   "cell_type": "markdown",
   "metadata": {},
   "source": [
    "### Use the following parenthesize function to display BSTs in parentheized format.\n",
    "   \n",
    "Alternately, search for and use an open source tree drawing tool that renders the tree as an image. "
   ]
  },
  {
   "cell_type": "code",
   "execution_count": 144,
   "metadata": {},
   "outputs": [],
   "source": [
    "def parenthesize(T, p):\n",
    "    \"\"\" Print a parenthesized representation of a subtree of T rooted at p. \"\"\"\n",
    "    if p is not None:\n",
    "        print (p.element, end = '')\n",
    "        if not T.is_leaf(p):\n",
    "            first_time = True\n",
    "            for c in (T.left(p), \n",
    "                      T.right(p)):\n",
    "                if first_time:\n",
    "                    sep = ' ('\n",
    "                else:\n",
    "                    sep = ', '\n",
    "                print (sep, end = '')\n",
    "                first_time = False\n",
    "                parenthesize(T, c)\n",
    "            print(')', end = '')\n",
    "    "
   ]
  },
  {
   "cell_type": "markdown",
   "metadata": {},
   "source": [
    "### Step (1): Insert code in the next cell to create the BST object  "
   ]
  },
  {
   "cell_type": "code",
   "execution_count": 133,
   "metadata": {},
   "outputs": [],
   "source": [
    "bst = BinarySearchTree()"
   ]
  },
  {
   "cell_type": "markdown",
   "metadata": {},
   "source": [
    "### Step (2): Read the transaction file and create the transaction \"list of lists\"\n",
    "   \n",
    "Note: Skip this step if too time consuming and use a built-in transaction list shown below to test your code.  However, A5 requires that you read and process from a transaction text file.  "
   ]
  },
  {
   "cell_type": "code",
   "execution_count": null,
   "metadata": {},
   "outputs": [],
   "source": []
  },
  {
   "cell_type": "markdown",
   "metadata": {},
   "source": [
    "### Step (3): Add code to the BST delete method to detect case (1) in which the node is not in the tree  "
   ]
  },
  {
   "cell_type": "markdown",
   "metadata": {},
   "source": [
    "### Step (4): Add code to the BST delete method to detect case (2) in which the node to be deleted has no child nodes "
   ]
  },
  {
   "cell_type": "markdown",
   "metadata": {},
   "source": [
    "### Steps (5) and (6): Create code to process the transactions \"I\", \"R\", and \"D\" \n",
    "\n",
    "Use the transaction file data to create a list of lists, which is an A5 requirement.   \n",
    "Alternately, skip the file processing step for now and use a given transaction list (next cell) to help create and debug your processing code.\n"
   ]
  },
  {
   "cell_type": "code",
   "execution_count": 143,
   "metadata": {},
   "outputs": [
    {
     "name": "stdout",
     "output_type": "stream",
     "text": [
      "[['I', 100], ['I', 150], ['I', 125], ['I', 50], ['I', 75], ['I', 25], ['I', 225], ['I', 135], ['D'], ['R', 75], ['D']]\n"
     ]
    }
   ],
   "source": [
    "# Use the following transaction list if skipping file processing for now\n",
    "transactions = [['I', 100], ['I', 150], ['I', 125], ['I', 50], ['I', 75], ['I', 25],\n",
    "               ['I', 225], ['I', 135], ['D'], ['R', 75], ['D']]\n",
    "print(transactions)"
   ]
  },
  {
   "cell_type": "code",
   "execution_count": 149,
   "metadata": {},
   "outputs": [
    {
     "name": "stdout",
     "output_type": "stream",
     "text": [
      "insert\n"
     ]
    },
    {
     "ename": "AttributeError",
     "evalue": "'NoneType' object has no attribute 'element'",
     "output_type": "error",
     "traceback": [
      "\u001b[1;31m---------------------------------------------------------------------------\u001b[0m",
      "\u001b[1;31mAttributeError\u001b[0m                            Traceback (most recent call last)",
      "Cell \u001b[1;32mIn[149], line 4\u001b[0m\n\u001b[0;32m      2\u001b[0m \u001b[38;5;28;01mif\u001b[39;00m t[\u001b[38;5;241m0\u001b[39m] \u001b[38;5;241m==\u001b[39m \u001b[38;5;124m\"\u001b[39m\u001b[38;5;124mI\u001b[39m\u001b[38;5;124m\"\u001b[39m:\n\u001b[0;32m      3\u001b[0m     \u001b[38;5;28mprint\u001b[39m(\u001b[38;5;124m'\u001b[39m\u001b[38;5;124minsert\u001b[39m\u001b[38;5;124m'\u001b[39m)\n\u001b[1;32m----> 4\u001b[0m     \u001b[43mbst\u001b[49m\u001b[38;5;241;43m.\u001b[39;49m\u001b[43minsert\u001b[49m\u001b[43m(\u001b[49m\u001b[43mt\u001b[49m\u001b[43m[\u001b[49m\u001b[38;5;241;43m1\u001b[39;49m\u001b[43m]\u001b[49m\u001b[43m)\u001b[49m\n\u001b[0;32m      5\u001b[0m \u001b[38;5;28;01melif\u001b[39;00m t[\u001b[38;5;241m0\u001b[39m] \u001b[38;5;241m==\u001b[39m \u001b[38;5;124m\"\u001b[39m\u001b[38;5;124mR\u001b[39m\u001b[38;5;124m\"\u001b[39m:\n\u001b[0;32m      6\u001b[0m     \u001b[38;5;28mprint\u001b[39m(\u001b[38;5;124m'\u001b[39m\u001b[38;5;124mdelete\u001b[39m\u001b[38;5;124m'\u001b[39m)\n",
      "Cell \u001b[1;32mIn[145], line 132\u001b[0m, in \u001b[0;36mBinarySearchTree.insert\u001b[1;34m(self, k)\u001b[0m\n\u001b[0;32m    130\u001b[0m \u001b[38;5;28;01mif\u001b[39;00m found:\n\u001b[0;32m    131\u001b[0m   \u001b[38;5;28;01mraise\u001b[39;00m AlreadyInBST (\u001b[38;5;124m'\u001b[39m\u001b[38;5;124mElement is already in the tree\u001b[39m\u001b[38;5;124m'\u001b[39m)  \u001b[38;5;66;03m# key value already in the Tree\u001b[39;00m\n\u001b[1;32m--> 132\u001b[0m \u001b[38;5;28;01melif\u001b[39;00m k \u001b[38;5;241m<\u001b[39m \u001b[43maddHere\u001b[49m\u001b[38;5;241;43m.\u001b[39;49m\u001b[43melement\u001b[49m:\n\u001b[0;32m    133\u001b[0m   \u001b[38;5;28mself\u001b[39m\u001b[38;5;241m.\u001b[39madd_left(addHere, k)\n\u001b[0;32m    134\u001b[0m \u001b[38;5;28;01melse\u001b[39;00m:\n",
      "\u001b[1;31mAttributeError\u001b[0m: 'NoneType' object has no attribute 'element'"
     ]
    }
   ],
   "source": [
    "for t in transactions:\n",
    "    if t[0] == \"I\":\n",
    "        print('insert')\n",
    "        bst.insert(t[1])\n",
    "    elif t[0] == \"R\":\n",
    "        print('delete')\n",
    "        bst.delete(t[1])\n",
    "    elif t[0] == \"D\":\n",
    "        print('display')\n",
    "        parenthesize(bst, bst.root)"
   ]
  },
  {
   "cell_type": "markdown",
   "metadata": {},
   "source": [
    "### Step (7): If not already done above, process the input data using your processing code and limited BST delete method additions.  Check that the 'D' transactions display the correct trees. "
   ]
  },
  {
   "cell_type": "code",
   "execution_count": 152,
   "metadata": {},
   "outputs": [
    {
     "ename": "AttributeError",
     "evalue": "'NoneType' object has no attribute 'element'",
     "output_type": "error",
     "traceback": [
      "\u001b[1;31m---------------------------------------------------------------------------\u001b[0m",
      "\u001b[1;31mAttributeError\u001b[0m                            Traceback (most recent call last)",
      "Cell \u001b[1;32mIn[152], line 1\u001b[0m\n\u001b[1;32m----> 1\u001b[0m \u001b[43mbst\u001b[49m\u001b[38;5;241;43m.\u001b[39;49m\u001b[43minsert\u001b[49m\u001b[43m(\u001b[49m\u001b[38;5;241;43m100\u001b[39;49m\u001b[43m)\u001b[49m\n\u001b[0;32m      2\u001b[0m bst\u001b[38;5;241m.\u001b[39minsert(\u001b[38;5;241m150\u001b[39m)\n\u001b[0;32m      3\u001b[0m bst\u001b[38;5;241m.\u001b[39minsert(\u001b[38;5;241m125\u001b[39m)\n",
      "Cell \u001b[1;32mIn[145], line 132\u001b[0m, in \u001b[0;36mBinarySearchTree.insert\u001b[1;34m(self, k)\u001b[0m\n\u001b[0;32m    130\u001b[0m \u001b[38;5;28;01mif\u001b[39;00m found:\n\u001b[0;32m    131\u001b[0m   \u001b[38;5;28;01mraise\u001b[39;00m AlreadyInBST (\u001b[38;5;124m'\u001b[39m\u001b[38;5;124mElement is already in the tree\u001b[39m\u001b[38;5;124m'\u001b[39m)  \u001b[38;5;66;03m# key value already in the Tree\u001b[39;00m\n\u001b[1;32m--> 132\u001b[0m \u001b[38;5;28;01melif\u001b[39;00m k \u001b[38;5;241m<\u001b[39m \u001b[43maddHere\u001b[49m\u001b[38;5;241;43m.\u001b[39;49m\u001b[43melement\u001b[49m:\n\u001b[0;32m    133\u001b[0m   \u001b[38;5;28mself\u001b[39m\u001b[38;5;241m.\u001b[39madd_left(addHere, k)\n\u001b[0;32m    134\u001b[0m \u001b[38;5;28;01melse\u001b[39;00m:\n",
      "\u001b[1;31mAttributeError\u001b[0m: 'NoneType' object has no attribute 'element'"
     ]
    }
   ],
   "source": [
    "bst.insert(100)\n",
    "bst.insert(150)\n",
    "bst.insert(125)\n",
    "bst.insert(50)\n",
    "bst.insert(75)\n",
    "bst.insert(25)\n",
    "bst.insert(225)\n",
    "bst.insert(135)\n",
    "\n",
    "bst.delete(75)\n",
    "\n",
    "parenthesize(bst, bst.root)"
   ]
  },
  {
   "cell_type": "markdown",
   "metadata": {},
   "source": [
    "Inserting into the tree kept giving me the error ['NoneType' object has no attribute 'element'] referencing the error to class code already given. I didn't want to change anything that was given, but I'm not sure as to how to fix this \"Insert\" method problem when the assignment's criteria was for \"Deleting\" methods. I apologize."
   ]
  },
  {
   "cell_type": "code",
   "execution_count": null,
   "metadata": {},
   "outputs": [],
   "source": []
  }
 ],
 "metadata": {
  "kernelspec": {
   "display_name": "Python 3 (ipykernel)",
   "language": "python",
   "name": "python3"
  },
  "language_info": {
   "codemirror_mode": {
    "name": "ipython",
    "version": 3
   },
   "file_extension": ".py",
   "mimetype": "text/x-python",
   "name": "python",
   "nbconvert_exporter": "python",
   "pygments_lexer": "ipython3",
   "version": "3.11.5"
  }
 },
 "nbformat": 4,
 "nbformat_minor": 4
}
