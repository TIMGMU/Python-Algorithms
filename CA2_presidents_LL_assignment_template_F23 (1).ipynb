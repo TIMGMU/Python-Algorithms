{
 "cells": [
  {
   "cell_type": "markdown",
   "metadata": {},
   "source": [
    "## IT-309: CA2 - Presidents Linked List Assignment Template"
   ]
  },
  {
   "cell_type": "markdown",
   "metadata": {},
   "source": [
    "CA2 is meant to introduce you to some of the concepts and coding you'll need to complete the Linked List assignment.\n",
    "The idea of a linked structure is also used in our study of trees.\n",
    "\n",
    "In this one you'll need to:\n",
    "\n",
    "1. Read a transaction file of U.S. presidents\n",
    "2. Separate the input lines into a transaction part and name part\n",
    "3. Create a Node class to be used to build a Linked List of presidents\n",
    "4. Build a partial list one node at a time\n",
    "5. Traverse the list using a 'while' loop\n",
    "6. Build a complete list using all names in the transaction list built\n",
    "   from the input file - use a 'for' loop to iterate through the list\n",
    "\n",
    "Create as much of the code as possible and upload your notebook file to the assignment site in BB.\n",
    "I will discuss some of the concepts and provide help and coaching, similar to IT-109 and IT-209 Labs.\n",
    "\n",
    "Deadline is end of the day.\n"
   ]
  },
  {
   "cell_type": "markdown",
   "metadata": {},
   "source": [
    "### 1. Read a transaction file of U.S. presidents"
   ]
  },
  {
   "cell_type": "code",
   "execution_count": 1,
   "metadata": {},
   "outputs": [],
   "source": [
    "# 1. Read the following input file provided with the assignment\n",
    "\n",
    "fname = 'C:/Demo/IT309-CA2input-presidents.txt'  # change to match your file location\n",
    "# Rest of the code that reads the file goes here ---------------\n",
    "\n"
   ]
  },
  {
   "cell_type": "markdown",
   "metadata": {},
   "source": [
    "### 2. Separate the input lines into a transaction part and name part"
   ]
  },
  {
   "cell_type": "code",
   "execution_count": null,
   "metadata": {},
   "outputs": [],
   "source": [
    "# 2. Build a transaction file as a list of lists, with the\n",
    "#    transaction code as the first sublit element, the name the second.\n",
    "#    Use the string 'split' method to separate those.\n",
    "#\n",
    "# Code to build the transaction list of lists goes here --------\n",
    "trans = [ ]     # start by creating a blank list\n",
    "# trans should look like this after creation:\n",
    "#    [['A', Washington'], ['A', 'Adams'], ...]\n",
    "\n",
    "\n",
    "print(trans)   # print when done to verify success"
   ]
  },
  {
   "cell_type": "code",
   "execution_count": null,
   "metadata": {},
   "outputs": [],
   "source": [
    "# The following code prints the transaction nested list you just created.  \n",
    "# Each of the two input items is printed separately items.\n",
    "for t in trans:\n",
    "    print(t[0], t[1])"
   ]
  },
  {
   "cell_type": "markdown",
   "metadata": {},
   "source": [
    "### 3. Create a Node class to be used to build a Linked List of presidents"
   ]
  },
  {
   "cell_type": "code",
   "execution_count": null,
   "metadata": {},
   "outputs": [],
   "source": [
    "# 3. Code to create the Node class goes here.\n",
    "#    - used to build node objects\n",
    "#    Attributes include a name (of a president) and \"pointer\" to\n",
    "#    the next node in the list\n",
    "#\n",
    "# Code goes here ----------------------------------------------\n",
    "\n",
    "class Node:         # class definition line provided\n",
    "\n",
    "    # provide rest of code (hint: the constructor that includes \n",
    "    # the 'element' or name as a parameter and 'next' to point\n",
    "    # to the next link - set it to 'None' in the constructor).\n",
    "    # You may directly access the node atributes using dot-notation.\n",
    "    # getter/setter methods are not needed. \n"
   ]
  },
  {
   "cell_type": "markdown",
   "metadata": {},
   "source": [
    "### 4. Build a partial list one node at a time (the SLL class is NOT needed for CA2)"
   ]
  },
  {
   "cell_type": "code",
   "execution_count": null,
   "metadata": {},
   "outputs": [],
   "source": [
    "# 4. Build linked list manually (i.e. not using the SLL class) \n",
    "#      using the first four presidents - Washington through Madison\n",
    "#    Ignore the transaction code for CA2, just use the presidents' names.\n",
    "\n",
    "# You'll need to create a pointer to the head of the list (\"head\").\n",
    "# Create the first node object, name = 'Washington', set 'head' equal \n",
    "# to that node, then make set the Washington node's next pointer to \"None\".\n",
    "#\n",
    "# After you create the Washington Node object \"n\", print:\n",
    "#\n",
    "#      1. it's name attribute, n.name\n",
    "#      2. it's id, i.e. id(n)\n",
    "#      3. the id of head, i.e. id(head)\n",
    "#      4. it's next pointer, id(n.next)\n",
    "\n",
    "# Code goes here to create the list head and point to 'Washington':\n",
    "#-----------------------------------------------------------------\n",
    "head = Node(trans[0][1])  # Add first presidents name as head (sublist 0, element 1)\n",
    "head.next = None          # set next pointer, None = end of list\n",
    "last = head               # set last to point to head since the list\n",
    "                          #   only has one node at this point\n",
    "\n",
    "print(id(head), id(last))  # Print head and last to verify success\n",
    "\n",
    "# Next add nodes for Adams (trans[1][1]), Jefferson (trans[2][1]), and Madison (trans[3][1])\n",
    "\n",
    "# Create a Node object for Adams, assign the name \"Adams\" \n",
    "# to that Node object's name attribute, assign Washington's \n",
    "# 'next' attribute to point to this new node, assign this new\n",
    "# node's next attribute to be \"None\".  Set ;last' equal to the Adams node.\n",
    "#\n",
    "# Print the id, and name and next attributes for this new Node object\n",
    "#\n",
    "# Repeat the above process for Jefferson and Madison\n",
    "#\n",
    "# The list should be this (name in parentheses, next pointer represented by arrows):\n",
    "#\n",
    "#   head => (Washington) => (Adams) => (Jefferson) => (Madison) => None  \n",
    "#   last => (Madison)\n",
    "\n",
    "# Code goes here:\n",
    "\n",
    "\n",
    "\n"
   ]
  },
  {
   "cell_type": "markdown",
   "metadata": {},
   "source": [
    "### 5. Traverse the list using a 'while' loop"
   ]
  },
  {
   "cell_type": "code",
   "execution_count": null,
   "metadata": {},
   "outputs": [],
   "source": [
    "# 5. Create a 'while' loop to travserse the linked list and \n",
    "#    print the name, id, and next and pointers\n",
    "#\n",
    "# Start the traversal with the 'head' node, then set the next\n",
    "# node to the 'next' pointer inside the while loop...continue \n",
    "# until the node you're looking at is \"None\".\n",
    "#\n",
    "# Code goes here ------------------------------------------------\n",
    "     \n",
    "\n",
    "    \n",
    "print('done with the search')    # Search is done when this is printed"
   ]
  },
  {
   "cell_type": "markdown",
   "metadata": {},
   "source": [
    "### 6. Build a complete list using all names in the transaction list"
   ]
  },
  {
   "cell_type": "code",
   "execution_count": null,
   "metadata": {},
   "outputs": [],
   "source": [
    "# 6. Build the a complete list using all the presidents in the  \n",
    "#    file, which you've read into the 'trans' list\n",
    "#    - use a for loop to step through the list originally \n",
    "#   read and built in 1 and 2, above (Washington through Van Buren)\n",
    "#\n",
    "# Code goes here -------------------------------------------------\n",
    "\n"
   ]
  },
  {
   "cell_type": "code",
   "execution_count": null,
   "metadata": {},
   "outputs": [],
   "source": []
  }
 ],
 "metadata": {
  "kernelspec": {
   "display_name": "Python 3",
   "language": "python",
   "name": "python3"
  },
  "language_info": {
   "codemirror_mode": {
    "name": "ipython",
    "version": 3
   },
   "file_extension": ".py",
   "mimetype": "text/x-python",
   "name": "python",
   "nbconvert_exporter": "python",
   "pygments_lexer": "ipython3",
   "version": "3.7.3"
  }
 },
 "nbformat": 4,
 "nbformat_minor": 2
}
