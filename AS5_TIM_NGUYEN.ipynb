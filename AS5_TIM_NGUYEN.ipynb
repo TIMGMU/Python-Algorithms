{
 "cells": [
  {
   "cell_type": "markdown",
   "metadata": {},
   "source": [
    "## IT309 - Binary Search Tree (BST) Code to be posted for student review and assignment completion"
   ]
  },
  {
   "cell_type": "markdown",
   "metadata": {},
   "source": [
    "### Binary Search Tree Code Posted to Blackboard for review and use in Assignment #5.  \n",
    "### Fill in the code for the 'delete' method (starts around line 133).  "
   ]
  },
  {
   "cell_type": "markdown",
   "metadata": {},
   "source": [
    "#### Tim Nguyen | Assignemnt 5 | IT309-001 | 11/6/2023"
   ]
  },
  {
   "cell_type": "code",
   "execution_count": 34,
   "metadata": {},
   "outputs": [],
   "source": [
    "class BinarySearchTree():      # BST\n",
    "  \"\"\"Simplified linked representation of a binary tree structure - only the essentials included.\"\"\"\n",
    "\n",
    "  #-------------------------- nested Node class --------------------------\n",
    "  class Node:\n",
    "    \"\"\"Lightweight, nonpublic class for storing a node.\"\"\"\n",
    "    def __init__(self, element, parent=None, left=None, right=None):\n",
    "      self.element = element\n",
    "      self.parent = parent\n",
    "      self.left = left\n",
    "      self.right = right\n",
    "\n",
    " \n",
    "  #-------------------------- SLBT constructor --------------------------\n",
    "  def __init__(self):\n",
    "    \"\"\"Create an initially empty binary tree.\"\"\"\n",
    "    self.root = None\n",
    "    self.size = 0\n",
    "\n",
    "  #-------------------------- accessors --------------------------\n",
    "  def __len__(self):\n",
    "    \"\"\"Return the total number of elements in the tree.\"\"\"\n",
    "    return self.size\n",
    "  \n",
    "  def root(self):\n",
    "    \"\"\"Return the root Position of the tree (or None if tree is empty).\"\"\"\n",
    "    return self.root\n",
    "\n",
    "  def parent(self, p):\n",
    "    \"\"\"Return the Position of p's parent (or None if p is root).\"\"\"\n",
    "    return p.parent\n",
    "\n",
    "  def left(self, p):\n",
    "    \"\"\"Return the Position of p's left child (or None if no left child).\"\"\"\n",
    "    return p.left\n",
    "\n",
    "  def right(self, p):\n",
    "    \"\"\"Return the Position of p's right child (or None if no right child).\"\"\"\n",
    "    return p.right\n",
    "\n",
    "  def element(self, p):\n",
    "    return p.element\n",
    "\n",
    "  def is_root(self, p):\n",
    "    if p.parent is None:\n",
    "        return True\n",
    "    return False\n",
    "\n",
    "  def is_leaf (self, p):\n",
    "    if p.left is None and p.right is None:\n",
    "        return True\n",
    "    return False\n",
    "\n",
    "  def num_children(self, p):\n",
    "    \"\"\"Return the number of children of Position p.\"\"\"\n",
    "    count = 0\n",
    "    if p.left is not None:     # left child exists\n",
    "      count += 1\n",
    "    if p.right is not None:    # right child exists\n",
    "      count += 1\n",
    "    return count\n",
    "\n",
    "  def depth(self, p):\n",
    "    \"\"\"Return the number of levels separating Position p from the root.\"\"\"\n",
    "    if self.is_root(p):\n",
    "      return 0\n",
    "    else:\n",
    "      return 1 + self.depth(p.parent)\n",
    "\n",
    "  #-------------------------- mutators --------------------------\n",
    "  def add_root(self, e):\n",
    "    \"\"\"Place element e at the root of an empty tree and return new Position.\n",
    "       Raise ValueError if tree nonempty.\n",
    "    \"\"\"\n",
    "    if self.root is not None:\n",
    "      raise ValueError('Root exists')\n",
    "    self.size = 1\n",
    "    self.root = self.Node(e)\n",
    "    return self.root\n",
    "\n",
    "  def add_left(self, p, e):\n",
    "    \"\"\"Create a new left child for Position p, storing element e.\n",
    "       Return the Position of new node.\n",
    "       Raise ValueError if Position p is invalid or p already has a left child.\n",
    "    \"\"\"\n",
    "    if p.left is not None:\n",
    "      raise ValueError('Left child exists')\n",
    "    self.size += 1\n",
    "    p.left = self.Node(e, parent = p)            # p is the parent\n",
    "    return p.left\n",
    "\n",
    "  def add_right(self, p, e):\n",
    "    \"\"\"Create a new right child for Position p, storing element e.\n",
    "       Return the Position of new node.\n",
    "       Raise ValueError if Position p is invalid or p already has a right child.\n",
    "    \"\"\"\n",
    "    if p.right is not None:\n",
    "      raise ValueError('Right child exists')\n",
    "    self.size += 1\n",
    "    p.right = self.Node(e, parent = p)          # node is its parent\n",
    "    return p.right\n",
    "\n",
    "  def replace(self, p, e):\n",
    "    \"\"\"Replace the element at position p with e, and return old element.\"\"\"\n",
    "    old = p.element\n",
    "    p.element = e\n",
    "    return old\n",
    "\n",
    "  #------------------------------- BST utilities -------------------------------\n",
    "  def subtree_search(self, p, k):\n",
    "    \"\"\"Return Position of p's subtree having key k, or last node searched.\n",
    "       Also return True if the key is found in the Tree, otherwise False.  \"\"\"\n",
    "    if p is None:\n",
    "      return None, False  # Tree is empty, so return None and False\n",
    "    if k == p.element:                                 # found match - return position+True\n",
    "      return p, True                                         \n",
    "    elif k < p.element:                                # search left subtree\n",
    "      if self.left(p) is not None:\n",
    "        return self.subtree_search(self.left(p), k)   \n",
    "    else:                                              # search right subtree\n",
    "      if self.right(p) is not None:\n",
    "        return self.subtree_search(self.right(p), k)\n",
    "    return p, False       # signal 'not found' to the caller: position (leaf) + False\n",
    "\n",
    "  def insert(self, k):\n",
    "    \"\"\"Insert a node with value 'k' into the correct spot in the tree.\"\"\"\n",
    "    if self.root is None:\n",
    "        # If the tree is empty, create a new root node\n",
    "        self.root = self.Node(k)\n",
    "        self.size = 1\n",
    "    else:\n",
    "        addHere, found = self.subtree_search(self.root, k)\n",
    "        if found:\n",
    "            raise AlreadyInBST('Element is already in the tree')\n",
    "        elif k < addHere.element:\n",
    "            self.add_left(addHere, k)\n",
    "        else:\n",
    "            self.add_right(addHere, k)\n",
    "\n",
    "  #---------------------------------------------------------------------------------------------- \n",
    "  # Note: You are to provide code for this method - the code to find the node is provided as\n",
    "  #       well as Docstring comments laying out the cases to be coded. \n",
    "  #       Hint: use the find_min function to find the min. element in the right subtree. \n",
    "  #       Be sure to adjust the tree size after a successful deletion.\n",
    "  #----------------------------------------------------------------------------------------------\n",
    "  def delete (self, k):\n",
    "      \"\"\" Delete a node with value 'k' if it is in the tree. Raise NotInBST if elt. not in tree. \"\"\"    \n",
    "      deleteThis, found = self.subtree_search(self.root, k)   # Find node to be deleted\n",
    "\n",
    "      # Cases: (1) element to be deleted is not in the tree, raise exception\n",
    "      #        (2) element has no children, just set it's parent's pointer to None\n",
    "      #        (3) element has one child: reset parent of 'k' to point to child\n",
    "      #        (4) element has two children: harder case\n",
    "      if not found:\n",
    "          raise NotInBST(\"Elemennt to be deleted is not in the tree\")\n",
    "      else:\n",
    "          parent=self.parent(deleteThis)\n",
    "          \n",
    "      if self.num_children(deleteThis)==0:    \n",
    "          if deleteThis == self.root:\n",
    "              self.root = None  #Tree set to empty\n",
    "          elif deleteThis == self.left(parent):\n",
    "              parent.left = None\n",
    "          else:\n",
    "              parent.right = None\n",
    "\n",
    "      elif self.num_children(deleteThis) == 1:\n",
    "          child = deleteThis.left if deleteThis.left is not None else deleteThis.right\n",
    "          if deleteThis == self.root:\n",
    "              self.root = child\n",
    "              child.parent=None\n",
    "          elif deleteThis == self.left(parent):\n",
    "              parent.left=child\n",
    "              child.parent=parent\n",
    "          else:\n",
    "              parent.right=child\n",
    "              child.parent=parent\n",
    "      else:\n",
    "          successor, _ = self.find_min(deleteThis.right)\n",
    "          self.delete(successor.element)\n",
    "          deleteThis.element = successor.element\n",
    "      self.size -= 1\n",
    "\n",
    "\n",
    "        \n",
    "  def find_min(self, p):\n",
    "    \"\"\"Return key with minimum key (or None if empty).\"\"\"\n",
    "    if len(self) == 0:\n",
    "      return None\n",
    "    while p.left is not None:\n",
    "        p = p.left\n",
    "    return p, p.element\n",
    "\n",
    "  def find_max(self, p):\n",
    "    \"\"\"Return key with minimum key (or None if empty).\"\"\"\n",
    "    if len(self) == 0:\n",
    "      return None\n",
    "    while p.right is not None:\n",
    "        p = p.right\n",
    "    return p, p.element\n",
    "\n",
    "\n",
    "# BST Traversals --------------------------------------------------------- \n",
    "            \n",
    "#-----------------------------------------------------------------\n",
    "# inorder algorithm (recursive):\n",
    "#    if tree node is not empty:\n",
    "#        if the node has a left child call preorder on that node\n",
    "#        print the node's element\n",
    "#        if the node has a right child call preorder on that node\n",
    "#----------------------------------------------------------------\n",
    "  def inorder (self, pos):\n",
    "    \"\"\" Perform an inorder traversal of the current tree - print the elements. \"\"\"\n",
    "    if pos is not None:\n",
    "        if self.left(pos) is not None:    \n",
    "            self.inorder (self.left(pos))\n",
    "        print(self.element(pos))\n",
    "        if self.right(pos) is not None:\n",
    "            self.inorder (self.right(pos))            \n",
    "\n",
    "class AlreadyInBST (Exception):\n",
    "    pass\n",
    "\n",
    "class NotInBST (Exception):\n",
    "    pass\n"
   ]
  },
  {
   "cell_type": "markdown",
   "metadata": {},
   "source": [
    "### Instantiate a BST class object, then build a small tree"
   ]
  },
  {
   "cell_type": "code",
   "execution_count": 3,
   "metadata": {},
   "outputs": [],
   "source": [
    "BST = BinarySearchTree()"
   ]
  },
  {
   "cell_type": "code",
   "execution_count": 4,
   "metadata": {},
   "outputs": [
    {
     "data": {
      "text/plain": [
       "<__main__.BinarySearchTree.Node at 0x27835e6e350>"
      ]
     },
     "execution_count": 4,
     "metadata": {},
     "output_type": "execute_result"
    }
   ],
   "source": [
    "BST.add_root(100)"
   ]
  },
  {
   "cell_type": "code",
   "execution_count": 5,
   "metadata": {},
   "outputs": [
    {
     "name": "stdout",
     "output_type": "stream",
     "text": [
      "Size of BST =  9\n",
      "25\n",
      "50\n",
      "65\n",
      "75\n",
      "100\n",
      "125\n",
      "150\n",
      "175\n",
      "200\n"
     ]
    }
   ],
   "source": [
    "BST.insert(25)\n",
    "BST.insert(50)\n",
    "BST.insert(75)\n",
    "BST.insert(125)\n",
    "BST.insert(150)\n",
    "BST.insert(175)\n",
    "BST.insert(65)\n",
    "BST.insert(200)\n",
    "print('Size of BST = ', len(BST))\n",
    "BST.inorder(BST.root)\n"
   ]
  },
  {
   "cell_type": "markdown",
   "metadata": {},
   "source": [
    "### The 'parenthesize' function displays a parenthesized version of a tree when given its root node\n",
    "\n",
    "Use the following code to print a parenthesized version of a BST.  "
   ]
  },
  {
   "cell_type": "code",
   "execution_count": 18,
   "metadata": {},
   "outputs": [],
   "source": [
    "def parenthesize(T, p):\n",
    "    \"\"\" Print a parenthesized representation of a subtree of T rooted at p. \"\"\"\n",
    "    if p is not None:\n",
    "        print (p.element, end = '')\n",
    "        if not T.is_leaf(p):\n",
    "            first_time = True\n",
    "            for c in (T.left(p), T.right(p)):\n",
    "                if first_time:\n",
    "                    sep = ' ('\n",
    "                else:\n",
    "                    sep = ', '\n",
    "                print (sep, end = '')\n",
    "                first_time = False\n",
    "                parenthesize(T, c)\n",
    "            print(')', end = '')\n",
    "    "
   ]
  },
  {
   "cell_type": "code",
   "execution_count": 19,
   "metadata": {},
   "outputs": [
    {
     "name": "stdout",
     "output_type": "stream",
     "text": [
      "100 (25 (, 50 (, 75 (65, ))), 125 (, 150 (, 175 (, 200))))"
     ]
    }
   ],
   "source": [
    "parenthesize(BST, BST.root)"
   ]
  },
  {
   "cell_type": "code",
   "execution_count": 20,
   "metadata": {},
   "outputs": [
    {
     "data": {
      "text/plain": [
       "25"
      ]
     },
     "execution_count": 20,
     "metadata": {},
     "output_type": "execute_result"
    }
   ],
   "source": [
    "BST.find_min(BST.root)[1]"
   ]
  },
  {
   "cell_type": "code",
   "execution_count": 21,
   "metadata": {},
   "outputs": [
    {
     "data": {
      "text/plain": [
       "125"
      ]
     },
     "execution_count": 21,
     "metadata": {},
     "output_type": "execute_result"
    }
   ],
   "source": [
    "RST = BST.root.right\n",
    "BST.find_min(RST)[1]"
   ]
  },
  {
   "cell_type": "code",
   "execution_count": 22,
   "metadata": {},
   "outputs": [
    {
     "data": {
      "text/plain": [
       "125"
      ]
     },
     "execution_count": 22,
     "metadata": {},
     "output_type": "execute_result"
    }
   ],
   "source": [
    "BST.find_min(BST.root.right)[1]"
   ]
  },
  {
   "cell_type": "code",
   "execution_count": 38,
   "metadata": {},
   "outputs": [
    {
     "name": "stdin",
     "output_type": "stream",
     "text": [
      "Enter the input filename: AS5input.txt\n"
     ]
    },
    {
     "name": "stdout",
     "output_type": "stream",
     "text": [
      "Inserted value: 62\n",
      "Inserted value: 112\n",
      "Inserted value: 37\n",
      "Inserted value: 92\n",
      "Inserted value: 48\n",
      "Inserted value: 191\n",
      "Inserted value: 12\n",
      "Inserted value: 6\n",
      "Inserted value: 108\n",
      "62 (37 (12 (6, ), 48), 112 (92 (, 108), 191))\n",
      "Inserted value: 114\n",
      "Inserted value: 42\n",
      "Inserted value: 43\n",
      "Removed value: 37\n",
      "Inserted value: 100\n",
      "Inserted value: 202\n",
      "Inserted value: 166\n",
      "Removed value: 48\n",
      "Inserted value: 49\n",
      "Inserted value: 75\n",
      "Removed value: 112\n",
      "62 (42 (12 (6, ), 43 (, 49)), 114 (92 (75, 108 (100, )), 191 (166, 202)))\n",
      "Erasing tree\n",
      "Inserted value: 5\n",
      "Inserted value: 17\n",
      "Inserted value: 31\n",
      "Inserted value: 56\n",
      "Inserted value: 91\n",
      "Inserted value: 164\n",
      "Inserted value: 171\n",
      "Inserted value: 290\n",
      "Inserted value: 301\n",
      "Inserted value: 307\n",
      "Inserted value: 321\n",
      "Inserted value: 333\n",
      "Found value: 307\n",
      "Value not found: 322\n",
      "Value not found: 12\n",
      "Removed value: 301\n",
      "5 (, 17 (, 31 (, 56 (, 91 (, 164 (, 171 (, 290 (, 307 (, 321 (, 333))))))))))\n",
      "Erasing tree\n",
      "Inserted value: 925\n",
      "Inserted value: 814\n",
      "Inserted value: 11\n",
      "Inserted value: 775\n",
      "Inserted value: 96\n",
      "Inserted value: 999\n",
      "Inserted value: 4\n",
      "Inserted value: 212\n",
      "Inserted value: 800\n",
      "Inserted value: 930\n",
      "Inserted value: 82\n",
      "Inserted value: 90\n",
      "Inserted value: 88\n",
      "Inserted value: 950\n",
      "Found value: 90\n",
      "Value not found: 89\n",
      "925 (814 (11 (4, 775 (96 (82 (, 90 (88, )), 212), 800)), ), 999 (930 (, 950), ))\n",
      "Inserted value: 780\n",
      "Inserted value: 325\n",
      "Inserted value: 290\n",
      "Inserted value: 777\n",
      "Removed value: 775\n",
      "Removed value: 96\n",
      "Removed value: 930\n"
     ]
    }
   ],
   "source": [
    "def bst_operations(filename):\n",
    "    bst = BinarySearchTree()\n",
    "    try:\n",
    "        with open(filename, 'r') as file:\n",
    "            display_tree = False\n",
    "            erase_tree = False\n",
    "            \n",
    "            for line in file:\n",
    "                transaction_line = line.strip().split(',')\n",
    "\n",
    "                if len(transaction_line)==1:\n",
    "                    if transaction_line[0]==\"D\":\n",
    "                        display_tree = True\n",
    "                    elif transaction_line[0]==\"E\":\n",
    "                        erase_tree = True\n",
    "                    continue\n",
    "                    \n",
    "                if display_tree:\n",
    "                    parenthesize(bst, bst.root)\n",
    "                    print()\n",
    "                    display_tree=False\n",
    "                if erase_tree:\n",
    "                    print(\"Erasing tree\")\n",
    "                    bst = BinarySearchTree()\n",
    "                    erase_tree = False\n",
    "                    \n",
    "                if len(transaction_line) != 2:\n",
    "                    print(\"Not a valid input:\", line)\n",
    "                    continue\n",
    "                    \n",
    "                transaction_code, value = transaction_line\n",
    "                value = int(value)\n",
    "                \n",
    "                if transaction_code==\"I\":\n",
    "                    try:\n",
    "                        bst.insert(value)\n",
    "                        print(\"Inserted value:\", value)\n",
    "                    except AlreadyInBST as e:\n",
    "                        print(\"Value is already in BST\", value)\n",
    "                elif transaction_code==\"F\":\n",
    "                    try:\n",
    "                        found_node, found = bst.subtree_search(bst.root, value)\n",
    "                        if found:\n",
    "                            print(\"Found value:\", value)\n",
    "                        else:\n",
    "                            print(\"Value not found:\", value)\n",
    "                    except NotInBST as e:\n",
    "                        print(\"Value not found:\", value)\n",
    "                elif transaction_code==\"R\":\n",
    "                    try:\n",
    "                        bst.delete(value)\n",
    "                        print(\"Removed value:\", value)\n",
    "                    except NotInBST as e:\n",
    "                        print(\"Value not found:\", value)\n",
    "                        \n",
    "    except FileNotFoundError:\n",
    "        print(\"File does not exist\")\n",
    "\n",
    "filename = input(\"Enter the input filename:\")\n",
    "bst_operations(filename)\n",
    "                    "
   ]
  },
  {
   "cell_type": "code",
   "execution_count": null,
   "metadata": {},
   "outputs": [],
   "source": []
  }
 ],
 "metadata": {
  "kernelspec": {
   "display_name": "Python 3 (ipykernel)",
   "language": "python",
   "name": "python3"
  },
  "language_info": {
   "codemirror_mode": {
    "name": "ipython",
    "version": 3
   },
   "file_extension": ".py",
   "mimetype": "text/x-python",
   "name": "python",
   "nbconvert_exporter": "python",
   "pygments_lexer": "ipython3",
   "version": "3.11.5"
  }
 },
 "nbformat": 4,
 "nbformat_minor": 4
}
