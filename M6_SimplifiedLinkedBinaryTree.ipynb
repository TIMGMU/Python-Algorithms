{
 "cells": [
  {
   "cell_type": "markdown",
   "metadata": {},
   "source": [
    "## IT309 - SimplifiedLinkedBinaryTree - stand-alone class definition with traversals as external functions"
   ]
  },
  {
   "cell_type": "markdown",
   "metadata": {},
   "source": [
    "### Note: This is an alternative to the more complex implementation code presented in the textbook.  That code relies on extensive use of inheritance.  Tree => BinaryTree => LinkedBinaryTree.\n"
   ]
  },
  {
   "cell_type": "code",
   "execution_count": 1,
   "metadata": {},
   "outputs": [],
   "source": [
    "class SimplifiedLinkedBinaryTree():      # SLBT\n",
    "  \"\"\"Simplified linked representation of a binary tree structure - only the essentials included.\"\"\"\n",
    "\n",
    "  #-------------------------- nested Node class --------------------------\n",
    "  class Node:\n",
    "    \"\"\"Lightweight, nonpublic class for storing a node.\"\"\"\n",
    "    def __init__(self, element, parent=None, left=None, right=None):\n",
    "      self.element = element          # Data\n",
    "      self.parent = parent            # reference pointer to parent node -'None' for root\n",
    "      self.left = left                # reference pointer to left child or None\n",
    "      self.right = right              # reference pointer to right child or None  \n",
    "\n",
    " \n",
    "  #-------------------------- SLBT constructor --------------------------\n",
    "  def __init__(self):\n",
    "    \"\"\"Create an initially empty binary tree.\"\"\"\n",
    "    self.root = None\n",
    "    self.size = 0\n",
    "\n",
    "  #-------------------------- accessors --------------------------\n",
    "  def __len__(self):\n",
    "    \"\"\"Return the total number of elements in the tree.\"\"\"\n",
    "    return self.size\n",
    "  \n",
    "  def root(self):\n",
    "    \"\"\"Return the root Position of the tree (or None if tree is empty).\"\"\"\n",
    "    return self.root\n",
    "\n",
    "  def parent(self, p):\n",
    "    \"\"\"Return the Position of p's parent (or None if p is root).\"\"\"\n",
    "    return p.parent\n",
    "\n",
    "  def left(self, p):\n",
    "    \"\"\"Return the Position of p's left child (or None if no left child).\"\"\"\n",
    "    return p.left\n",
    "\n",
    "  def right(self, p):\n",
    "    \"\"\"Return the Position of p's right child (or None if no right child).\"\"\"\n",
    "    return p.right\n",
    "\n",
    "  def element(self, p):\n",
    "    return p.element\n",
    "\n",
    "  def is_root(self, p):\n",
    "    if p.parent is None:\n",
    "        return True\n",
    "    return False\n",
    "\n",
    "  def is_leaf (self, p):\n",
    "    if p.left is None and p.right is None:\n",
    "        return True\n",
    "    return False\n",
    "\n",
    "  def num_children(self, p):\n",
    "    \"\"\"Return the number of children of Position p.\"\"\"\n",
    "    count = 0\n",
    "    if p.left is not None:     # left child exists\n",
    "      count += 1\n",
    "    if p.right is not None:    # right child exists\n",
    "      count += 1\n",
    "    return count\n",
    "\n",
    "  def depth(self, p):\n",
    "    \"\"\"Return the number of levels separating Position p from the root.\"\"\"\n",
    "    if self.is_root(p):\n",
    "      return 0\n",
    "    else:\n",
    "      return 1 + self.depth(p.parent)\n",
    "\n",
    "  #-------------------------- mutators --------------------------\n",
    "  def add_root(self, e):\n",
    "    \"\"\"Place element e at the root of an empty tree and return new Position.\n",
    "\n",
    "    Raise ValueError if tree nonempty.\n",
    "    \"\"\"\n",
    "    if self.root is not None:\n",
    "      raise ValueError('Root exists')\n",
    "    self.size = 1\n",
    "    self.root = self.Node(e)\n",
    "    return self.root\n",
    "\n",
    "  def add_left(self, p, e):\n",
    "    \"\"\"Create a new left child for Position p, storing element e.\n",
    "\n",
    "    Return the Position of new node.\n",
    "    Raise ValueError if Position p is invalid or p already has a left child.\n",
    "    \"\"\"\n",
    "    if p.left is not None:\n",
    "      raise ValueError('Left child exists')\n",
    "    self.size += 1\n",
    "    p.left = self.Node(e, parent = p)            # p is the parent\n",
    "    return p.left\n",
    "\n",
    "  def add_right(self, p, e):\n",
    "    \"\"\"Create a new right child for Position p, storing element e.\n",
    "\n",
    "    Return the Position of new node.\n",
    "    Raise ValueError if Position p is invalid or p already has a right child.\n",
    "    \"\"\"\n",
    "    if p.right is not None:\n",
    "      raise ValueError('Right child exists')\n",
    "    self.size += 1\n",
    "    p.right = self.Node(e, parent = p)          # node is its parent\n",
    "    return p.right\n",
    "\n",
    "  def replace(self, p, e):\n",
    "    \"\"\"Replace the element at position p with e, and return old element.\"\"\"\n",
    "    old = p.element\n",
    "    p.element = e\n",
    "    return old\n",
    "\n",
    "  "
   ]
  },
  {
   "cell_type": "markdown",
   "metadata": {},
   "source": [
    "### Create a LinkedBinaryTree object, then assign it a root with node element = 10"
   ]
  },
  {
   "cell_type": "code",
   "execution_count": 2,
   "metadata": {},
   "outputs": [
    {
     "data": {
      "text/plain": [
       "__main__.SimplifiedLinkedBinaryTree"
      ]
     },
     "execution_count": 2,
     "metadata": {},
     "output_type": "execute_result"
    }
   ],
   "source": [
    "SLBT = SimplifiedLinkedBinaryTree()\n",
    "type(SLBT)"
   ]
  },
  {
   "cell_type": "code",
   "execution_count": 3,
   "metadata": {},
   "outputs": [],
   "source": [
    "root = SLBT.add_root(10)\n"
   ]
  },
  {
   "cell_type": "code",
   "execution_count": 4,
   "metadata": {},
   "outputs": [
    {
     "data": {
      "text/plain": [
       "1233801011496"
      ]
     },
     "execution_count": 4,
     "metadata": {},
     "output_type": "execute_result"
    }
   ],
   "source": [
    "id(SLBT.root)"
   ]
  },
  {
   "cell_type": "code",
   "execution_count": 5,
   "metadata": {},
   "outputs": [
    {
     "name": "stdout",
     "output_type": "stream",
     "text": [
      "10\n",
      "1\n"
     ]
    }
   ],
   "source": [
    "print(SLBT.root.element)\n",
    "print(SLBT.size)"
   ]
  },
  {
   "cell_type": "markdown",
   "metadata": {},
   "source": [
    "### Add left and right children of the root, then additional children. Final tree = (10  (5 (2  8)) (15  ( 12  18))) "
   ]
  },
  {
   "cell_type": "code",
   "execution_count": 6,
   "metadata": {},
   "outputs": [
    {
     "name": "stdout",
     "output_type": "stream",
     "text": [
      "3\n"
     ]
    }
   ],
   "source": [
    "SLBT.add_left(root, 5)\n",
    "SLBT.add_right(root, 15)\n",
    "print(len(SLBT))\n"
   ]
  },
  {
   "cell_type": "code",
   "execution_count": 7,
   "metadata": {},
   "outputs": [
    {
     "name": "stdout",
     "output_type": "stream",
     "text": [
      "5\n",
      "15\n"
     ]
    }
   ],
   "source": [
    "print(SLBT.root.left.element)\n",
    "print(SLBT.root.right.element)"
   ]
  },
  {
   "cell_type": "markdown",
   "metadata": {},
   "source": [
    "### Populate the rest of the tree with additional lower level nodes..."
   ]
  },
  {
   "cell_type": "code",
   "execution_count": 8,
   "metadata": {},
   "outputs": [
    {
     "name": "stdout",
     "output_type": "stream",
     "text": [
      "9\n"
     ]
    }
   ],
   "source": [
    "L = SLBT.left(root)\n",
    "R = SLBT.right(root)\n",
    "LL = SLBT.add_left(L, 2)\n",
    "LR = SLBT.add_right(L, 8)\n",
    "LRL = SLBT.add_left(LR, 7)\n",
    "RL = SLBT.add_left(R, 12)\n",
    "RLR = SLBT.add_right(RL, 13)\n",
    "RR = SLBT.add_right(R, 18)\n",
    "print(len(SLBT))"
   ]
  },
  {
   "attachments": {
    "image.png": {
     "image/png": "[encoded data removed]"
    }
   },
   "cell_type": "markdown",
   "metadata": {},
   "source": [
    "The tree that was defined above looks like this (letters are the variable names representing nodes, \n",
    "                                                 numbers are the element or node data values):\n",
    "\n",
    "![image.png](attachment:image.png)"
   ]
  },
  {
   "cell_type": "markdown",
   "metadata": {},
   "source": [
    "### Use the various methods to ask questions about node positions"
   ]
  },
  {
   "cell_type": "code",
   "execution_count": 9,
   "metadata": {},
   "outputs": [
    {
     "name": "stdout",
     "output_type": "stream",
     "text": [
      "Is \"root\" the root?  True\n",
      "Is \"root\" a leaf?  False\n",
      "Is LL the root?  False\n",
      "Is LL a leaf?  True\n"
     ]
    }
   ],
   "source": [
    "print ('Is \"root\" the root? ', SLBT.is_root(root))\n",
    "print ('Is \"root\" a leaf? ', SLBT.is_leaf(root))\n",
    "print ('Is LL the root? ', SLBT.is_root(LL))\n",
    "print ('Is LL a leaf? ', SLBT.is_leaf(LL))"
   ]
  },
  {
   "cell_type": "code",
   "execution_count": 10,
   "metadata": {},
   "outputs": [
    {
     "name": "stdout",
     "output_type": "stream",
     "text": [
      "Depth at root =  0\n",
      "Depth at L =  1\n",
      "Depth at LL =  2\n",
      "Depth at RLR =  3\n"
     ]
    }
   ],
   "source": [
    "print ('Depth at root = ', SLBT.depth(root))\n",
    "print('Depth at L = ', SLBT.depth(L))\n",
    "print('Depth at LL = ', SLBT.depth(LL))\n",
    "print('Depth at RLR = ', SLBT.depth(RLR))"
   ]
  },
  {
   "cell_type": "code",
   "execution_count": 11,
   "metadata": {},
   "outputs": [
    {
     "name": "stdout",
     "output_type": "stream",
     "text": [
      "Number of children of root:  2\n",
      "Number of children of \"LL\":  0\n"
     ]
    }
   ],
   "source": [
    "print('Number of children of root: ', SLBT.num_children(root))\n",
    "print('Number of children of \"LL\": ', SLBT.num_children(LL))"
   ]
  },
  {
   "cell_type": "code",
   "execution_count": 12,
   "metadata": {},
   "outputs": [
    {
     "name": "stdout",
     "output_type": "stream",
     "text": [
      "2\n"
     ]
    }
   ],
   "source": [
    "print(SLBT.root.left.left.element)"
   ]
  },
  {
   "cell_type": "markdown",
   "metadata": {},
   "source": [
    "### View the tree nodes - their position in the tree and link values.  Follow the links from node to node..."
   ]
  },
  {
   "cell_type": "code",
   "execution_count": 13,
   "metadata": {},
   "outputs": [
    {
     "name": "stdout",
     "output_type": "stream",
     "text": [
      "n=   10, root  id=  1233801011496 left =  1233801014520 right =  1233801014184\n",
      "n=    5, L     id=  1233801014520 left =  1233801059632 right =  1233801059688\n",
      "n=   15, R     id=  1233801014184 left =  1233801059856 right =  1233801059968\n",
      "n=    2, LL    id=  1233801059632 left = 140731132693728 right = 140731132693728\n",
      "n=    8, LR    id=  1233801059688 left =  1233801059800 right = 140731132693728\n",
      "n=    7, LRL   id=  1233801059800 left = 140731132693728 right = 140731132693728\n",
      "n=   12, RL    id=  1233801059856 left = 140731132693728 right =  1233801059912\n",
      "n=   13, RLR   id=  1233801059912 left = 140731132693728 right = 140731132693728\n",
      "n=   18, RR    id=  1233801059968 left = 140731132693728 right = 140731132693728\n"
     ]
    }
   ],
   "source": [
    "TreeNodes = (root, L, R, LL, LR, LRL, RL, RLR, RR)\n",
    "node_name = ('root', 'L', 'R', 'LL', 'LR', 'LRL', 'RL', 'RLR', 'RR')\n",
    "\n",
    "x = 0    # use to insert node variable name into output\n",
    "for n in TreeNodes:\n",
    "    print ('n= {0:4d}, {1:4s}  id= {2:14d} left = {3:14d} right = {4:14d}'.format(n.element, node_name[x], id(n), id(n.left), id(n.right)))\n",
    "    x += 1\n",
    "    #print('The parent of node ', n.element(), ' is ', LBT.parent(n).element())"
   ]
  },
  {
   "cell_type": "markdown",
   "metadata": {},
   "source": [
    "### Manual enumeration of tree elements based on positons saved in variables"
   ]
  },
  {
   "cell_type": "code",
   "execution_count": 14,
   "metadata": {},
   "outputs": [
    {
     "name": "stdout",
     "output_type": "stream",
     "text": [
      "140731132693728\n",
      "140731132693728\n"
     ]
    }
   ],
   "source": [
    "print(id(None))\n",
    "print(id(LR.right))"
   ]
  },
  {
   "cell_type": "code",
   "execution_count": 15,
   "metadata": {},
   "outputs": [
    {
     "name": "stdout",
     "output_type": "stream",
     "text": [
      "10\n"
     ]
    }
   ],
   "source": [
    "print(L.parent.element)"
   ]
  },
  {
   "cell_type": "code",
   "execution_count": 16,
   "metadata": {},
   "outputs": [
    {
     "name": "stdout",
     "output_type": "stream",
     "text": [
      "10 5 15 2 8 7 12 13 18\n"
     ]
    }
   ],
   "source": [
    "print (root.element, L.element, R.element, LL.element, LR.element, LRL.element, RL.element, RLR.element, RR.element)"
   ]
  },
  {
   "cell_type": "markdown",
   "metadata": {},
   "source": [
    "### Preorder traversal - recursive.  \n",
    "\n",
    "\n"
   ]
  },
  {
   "attachments": {
    "image.png": {
     "image/png": "[encoded data removed]"
    }
   },
   "cell_type": "markdown",
   "metadata": {},
   "source": [
    "Preorder traversal algorithm\n",
    "\n",
    "![image.png](attachment:image.png)\n"
   ]
  },
  {
   "attachments": {
    "image.png": {
     "image/png": "[encoded data removed]"
    }
   },
   "cell_type": "markdown",
   "metadata": {},
   "source": [
    "Tree being traversed:\n",
    "    \n",
    "![image.png](attachment:image.png)    "
   ]
  },
  {
   "cell_type": "code",
   "execution_count": 17,
   "metadata": {},
   "outputs": [],
   "source": [
    "#-----------------------------------------------------------------\n",
    "# preorder algorithm (recursive):\n",
    "#    if tree node is not empty:\n",
    "#        print the node's element \n",
    "#        if the node has a left child call preorder on that node\n",
    "#        if the node has a right child call preorder on that node\n",
    "#----------------------------------------------------------------\n",
    "\n",
    "def preorder (pos):\n",
    "    if pos is not None:\n",
    "        print (SLBT.element (pos))           # \"visit\" or inspect the node element\n",
    "        if SLBT.left(pos) is not None:    \n",
    "            preorder (SLBT.left(pos))\n",
    "        if SLBT.right(pos) is not None:\n",
    "            preorder (SLBT.right(pos))\n"
   ]
  },
  {
   "cell_type": "code",
   "execution_count": 18,
   "metadata": {},
   "outputs": [
    {
     "name": "stdout",
     "output_type": "stream",
     "text": [
      "10\n",
      "5\n",
      "2\n",
      "8\n",
      "7\n",
      "15\n",
      "12\n",
      "13\n",
      "18\n"
     ]
    }
   ],
   "source": [
    "preorder (SLBT.root)             # preorder entire tree\n",
    "#preorder (SLBT.root.right)      # preorder only the right subtree"
   ]
  },
  {
   "attachments": {
    "image.png": {
     "image/png": "[encoded data removed]"
    }
   },
   "cell_type": "markdown",
   "metadata": {},
   "source": [
    "Tree being traversed:\n",
    "    \n",
    "![image.png](attachment:image.png)    "
   ]
  },
  {
   "attachments": {
    "image.png": {
     "image/png": "[encoded data removed]"
    }
   },
   "cell_type": "markdown",
   "metadata": {},
   "source": [
    "### Postorder traversal - recursive![image.png](attachment:image.png)"
   ]
  },
  {
   "cell_type": "code",
   "execution_count": 19,
   "metadata": {},
   "outputs": [],
   "source": [
    "#-----------------------------------------------------------------\n",
    "# postorder algorithm (recursive):\n",
    "#    if tree node is not empty:\n",
    "#        if the node has a left child call preorder on that node\n",
    "#        if the node has a right child call preorder on that node\n",
    "#        print the node's element \n",
    "#----------------------------------------------------------------\n",
    "\n",
    "def postorder (pos):\n",
    "    if pos is not None:\n",
    "        if SLBT.left(pos) is not None:    \n",
    "            postorder (SLBT.left(pos))\n",
    "        if SLBT.right(pos) is not None:\n",
    "            postorder (SLBT.right(pos))\n",
    "        print(SLBT.element(pos))            # \"visit\" or inspect the node element\n"
   ]
  },
  {
   "cell_type": "code",
   "execution_count": 20,
   "metadata": {},
   "outputs": [
    {
     "name": "stdout",
     "output_type": "stream",
     "text": [
      "2\n",
      "7\n",
      "8\n",
      "5\n",
      "13\n",
      "12\n",
      "18\n",
      "15\n",
      "10\n"
     ]
    }
   ],
   "source": [
    "postorder(SLBT.root)"
   ]
  },
  {
   "cell_type": "markdown",
   "metadata": {},
   "source": [
    "### Postorder travsersal using a stack - need to include ArrayStack as stack implementation"
   ]
  },
  {
   "cell_type": "code",
   "execution_count": 21,
   "metadata": {},
   "outputs": [],
   "source": [
    "#---------------------------------------------------------------------------\n",
    "# ArrayStack class - from Wiley source\n",
    "# modified by GRS 09/01/2019 for IT-309\n",
    "#---------------------------------------------------------------------------\n",
    "class ArrayStack:\n",
    "  \"\"\"LIFO Stack implementation using a Python list as underlying storage.\"\"\"\n",
    "\n",
    "  def __init__(self):\n",
    "    \"\"\"Create an empty stack.\"\"\"\n",
    "    self._data = []                       # nonpublic list instance\n",
    "\n",
    "  def __len__(self):\n",
    "    \"\"\"Return the number of elements in the stack.\"\"\"\n",
    "    return len(self._data)\n",
    "\n",
    "  def is_empty(self):\n",
    "    \"\"\"Return True if the stack is empty.\"\"\"\n",
    "    return len(self._data) == 0\n",
    "\n",
    "  def push(self, e):\n",
    "    \"\"\"Add element e to the top of the stack.\"\"\"\n",
    "    self._data.append(e)                  # new item stored at end of list\n",
    "\n",
    "  def top(self):\n",
    "    \"\"\"Return (but do not remove) the element at the top of the stack.\n",
    "    Raise Empty exception if the stack is empty.\n",
    "    \"\"\"\n",
    "    if self.is_empty():\n",
    "      raise Empty('Stack is empty')\n",
    "    return self._data[-1]                 # the last item in the list\n",
    "\n",
    "  def pop(self):\n",
    "    \"\"\"Remove and return the element from the top of the stack (i.e., LIFO).\n",
    "    Raise Empty exception if the stack is empty.\n",
    "    \"\"\"\n",
    "    if self.is_empty():\n",
    "      raise Empty('Stack is empty')\n",
    "    return self._data.pop()               # remove last item from list\n",
    "\n",
    "  def showStack(self):                    # Added by GRS to display stack contents\n",
    "    \"\"\" Display the contents of the stack top to bottom, without 'pop'. \"\"\"\n",
    "    print('\\nContents of stack from top to bottom:')\n",
    "    for s in range(len(self._data) - 1, -1, -1):\n",
    "      print(self._data[s])\n",
    "    \n",
    "class Empty(Exception):\n",
    "  \"\"\"Simple 'Empty' exception - used as message pass-through. GRS \"\"\"\n",
    "  pass\n",
    "\n"
   ]
  },
  {
   "cell_type": "code",
   "execution_count": 22,
   "metadata": {},
   "outputs": [
    {
     "name": "stdout",
     "output_type": "stream",
     "text": [
      "2\n",
      "7\n",
      "8\n",
      "5\n",
      "13\n",
      "12\n",
      "18\n",
      "15\n",
      "10\n"
     ]
    }
   ],
   "source": [
    "#--------------------------------------------------------------------\n",
    "# postorder algorithm:\n",
    "#     push root\n",
    "#     if top has children that were not already popped\n",
    "#          push right child (if any), push left child (if any) \n",
    "#     else print top, pop it, add to the already_popped list \n",
    "#--------------------------------------------------------------------\n",
    "S = ArrayStack()\n",
    "S.push(SLBT.root)\n",
    "already_popped = [ ]    # nodes that have already been printed (\"visited\")\n",
    "while not S.is_empty():\n",
    "    top = S.top()\n",
    "    pushed = False\n",
    "    R_child = SLBT.right(top)\n",
    "    L_child = SLBT.left(top)\n",
    "    if R_child is not None and R_child not in already_popped:    \n",
    "        S.push(R_child)\n",
    "        pushed = True\n",
    "    if L_child is not None and L_child not in already_popped:\n",
    "        S.push(L_child)\n",
    "        pushed = True\n",
    "    if not pushed:\n",
    "        top = S.pop()\n",
    "        already_popped.append(top)\n",
    "        print(top.element)            # \"visit\" or inspect node element\n",
    "        "
   ]
  },
  {
   "attachments": {
    "image.png": {
     "image/png": "[encoded data removed]"
    }
   },
   "cell_type": "markdown",
   "metadata": {},
   "source": [
    "Tree being traversed:\n",
    "    \n",
    "![image.png](attachment:image.png)    "
   ]
  },
  {
   "attachments": {
    "image.png": {
     "image/png": "[encoded data removed]"
    }
   },
   "cell_type": "markdown",
   "metadata": {},
   "source": [
    "### Inorder traversal - recursive![image.png](attachment:image.png)"
   ]
  },
  {
   "cell_type": "code",
   "execution_count": 23,
   "metadata": {},
   "outputs": [],
   "source": [
    "#-----------------------------------------------------------------\n",
    "# inorder algorithm (recursive):\n",
    "#    if tree node is not empty:\n",
    "#        if the node has a left child call preorder on that node\n",
    "#        print the node's element\n",
    "#        if the node has a right child call preorder on that node\n",
    "#----------------------------------------------------------------\n",
    "\n",
    "def inorder (pos):\n",
    "    if pos is not None:\n",
    "        if SLBT.left(pos) is not None:    \n",
    "            inorder (SLBT.left(pos))\n",
    "        print(SLBT.element(pos))\n",
    "        if SLBT.right(pos) is not None:\n",
    "            inorder (SLBT.right(pos))\n"
   ]
  },
  {
   "cell_type": "code",
   "execution_count": 24,
   "metadata": {},
   "outputs": [
    {
     "name": "stdout",
     "output_type": "stream",
     "text": [
      "2\n",
      "5\n",
      "7\n",
      "8\n",
      "10\n",
      "12\n",
      "13\n",
      "15\n",
      "18\n"
     ]
    }
   ],
   "source": [
    "inorder(SLBT.root)"
   ]
  },
  {
   "cell_type": "markdown",
   "metadata": {},
   "source": [
    "### Function to print a parethesized representation of a tree - useful for A5"
   ]
  },
  {
   "cell_type": "code",
   "execution_count": 25,
   "metadata": {},
   "outputs": [],
   "source": [
    "def parenthesize(T, p):\n",
    "    \"\"\" Print a parenthesized representation of a subtree of T rooted at p. \"\"\"\n",
    "    if p is not None:\n",
    "        print (p.element, end = '')\n",
    "        if not T.is_leaf(p):\n",
    "            first_time = True\n",
    "            for c in (T.left(p), T.right(p)):\n",
    "                if first_time:\n",
    "                    sep = ' ('\n",
    "                else:\n",
    "                    sep = ', '\n",
    "                print (sep, end = '')\n",
    "                first_time = False\n",
    "                parenthesize(T, c)\n",
    "            print(')', end = '')"
   ]
  },
  {
   "cell_type": "code",
   "execution_count": 26,
   "metadata": {},
   "outputs": [
    {
     "name": "stdout",
     "output_type": "stream",
     "text": [
      "10 (5 (2, 8 (7, )), 15 (12 (, 13), 18))"
     ]
    }
   ],
   "source": [
    "parenthesize(SLBT, SLBT.root)"
   ]
  },
  {
   "cell_type": "code",
   "execution_count": 27,
   "metadata": {},
   "outputs": [
    {
     "name": "stdout",
     "output_type": "stream",
     "text": [
      "9\n"
     ]
    }
   ],
   "source": [
    "# Tree for expression  ((4 + 2) *  6) - (4 + 8)\n",
    "SLBT1 = SimplifiedLinkedBinaryTree()\n",
    "root = SLBT1.add_root(\"-\")\n",
    "L = SLBT1.add_left(root, \"*\")\n",
    "R = SLBT1.add_right(root, \"+\")\n",
    "LL = SLBT1.add_left(L, \"+\")\n",
    "LR = SLBT1.add_right(L, \"6\")\n",
    "LLL = SLBT1.add_left(LL, \"4\")\n",
    "LLR = SLBT1.add_right(LL, \"2\")\n",
    "RL = SLBT1.add_left(R, \"4\")\n",
    "RR = SLBT1.add_right(R, \"8\")\n",
    "print(len(SLBT1))"
   ]
  },
  {
   "cell_type": "code",
   "execution_count": 28,
   "metadata": {},
   "outputs": [
    {
     "name": "stdout",
     "output_type": "stream",
     "text": [
      "4\n",
      "2\n",
      "+\n",
      "6\n",
      "*\n",
      "4\n",
      "8\n",
      "+\n",
      "-\n"
     ]
    }
   ],
   "source": [
    "SLBT = SLBT1\n",
    "postorder(SLBT1.root)\n"
   ]
  },
  {
   "cell_type": "code",
   "execution_count": 29,
   "metadata": {},
   "outputs": [
    {
     "name": "stdout",
     "output_type": "stream",
     "text": [
      "4\n",
      "+\n",
      "2\n",
      "*\n",
      "6\n",
      "-\n",
      "4\n",
      "+\n",
      "8\n"
     ]
    }
   ],
   "source": [
    "inorder(SLBT1.root)"
   ]
  },
  {
   "cell_type": "code",
   "execution_count": 30,
   "metadata": {},
   "outputs": [],
   "source": [
    "def parenthesize(T, p):\n",
    "    \"\"\" Print a parenthesized representation of a subtree of T rooted at p. \"\"\"\n",
    "    if p is not None:\n",
    "        print (p.element, end = '')\n",
    "        if not T.is_leaf(p):\n",
    "            first_time = True\n",
    "            for c in (T.left(p), T.right(p)):\n",
    "                if first_time:\n",
    "                    sep = ' ('\n",
    "                else:\n",
    "                    sep = ', '\n",
    "                print (sep, end = '')\n",
    "                first_time = False\n",
    "                parenthesize(T, c)\n",
    "            print(')', end = '')"
   ]
  },
  {
   "cell_type": "code",
   "execution_count": 31,
   "metadata": {},
   "outputs": [
    {
     "name": "stdout",
     "output_type": "stream",
     "text": [
      "- (* (+ (4, 2), 6), + (4, 8))"
     ]
    }
   ],
   "source": [
    "parenthesize(SLBT1, SLBT1.root)"
   ]
  },
  {
   "cell_type": "markdown",
   "metadata": {},
   "source": [
    "### Print the expression in infix with parentheses - specialization of the inorder traversal algorithm"
   ]
  },
  {
   "cell_type": "code",
   "execution_count": 32,
   "metadata": {},
   "outputs": [],
   "source": [
    "def printExpression(T, p):\n",
    "    \"\"\" Print an infix representation of the expression of subtree of T rooted at p. \"\"\"\n",
    "    if p.left is not None:\n",
    "        print (\"(\", end = ' ')\n",
    "        printExpression(T, p.left)\n",
    "    print(p.element, end = ' ')\n",
    "    if p.right is not None:\n",
    "        printExpression(T, p.right)\n",
    "        print(\")\", end = ' ')\n",
    "       "
   ]
  },
  {
   "cell_type": "code",
   "execution_count": 33,
   "metadata": {},
   "outputs": [
    {
     "name": "stdout",
     "output_type": "stream",
     "text": [
      "( ( ( 4 + 2 ) * 6 ) - ( 4 + 8 ) ) "
     ]
    }
   ],
   "source": [
    "printExpression(SLBT1, SLBT1.root)"
   ]
  },
  {
   "cell_type": "markdown",
   "metadata": {},
   "source": [
    "### Process the arithmetic expression ((2 x (5 - 1)) + (3 x 2)) - use code from textbook. Similar to postorder traversal."
   ]
  },
  {
   "cell_type": "code",
   "execution_count": 34,
   "metadata": {},
   "outputs": [],
   "source": [
    "def evalExpr (pos):\n",
    "    if pos is not None:\n",
    "        if SLBT.is_leaf(pos):\n",
    "            return SLBT.element(pos)\n",
    "        else:\n",
    "            x = int(evalExpr(SLBT.left(pos)))\n",
    "            y = int(evalExpr(SLBT.right(pos)))\n",
    "            print ('x = ', x,'  y = ', y, '  pos element = ', SLBT.element(pos))\n",
    "            if '*' in SLBT.element(pos):\n",
    "                return x * y\n",
    "            elif '+' in SLBT.element(pos):\n",
    "                return x + y\n",
    "            elif '-' in SLBT.element(pos):\n",
    "                return x - y\n",
    "            else: return x / y\n",
    "        "
   ]
  },
  {
   "cell_type": "markdown",
   "metadata": {},
   "source": [
    "#### Recreate the tree, but with all numbers and no variable symbols."
   ]
  },
  {
   "cell_type": "code",
   "execution_count": 36,
   "metadata": {},
   "outputs": [],
   "source": [
    "SLBT = SimplifiedLinkedBinaryTree()\n",
    "root = SLBT.add_root(' + ')\n",
    "SLBT.add_left(root, ' * ')\n",
    "SLBT.add_right(root, ' * ')\n",
    "L = SLBT.left(root)\n",
    "R = SLBT.right(root)\n",
    "LL = SLBT.add_left(L, 2)\n",
    "LR = SLBT.add_right(L, ' - ')\n",
    "LRL = SLBT.add_left(LR, 5)\n",
    "LRR = SLBT.add_right(LR, 1)\n",
    "RL = SLBT.add_left(R, 3)\n",
    "RR = SLBT.add_right(R, 8)"
   ]
  },
  {
   "cell_type": "code",
   "execution_count": 38,
   "metadata": {},
   "outputs": [
    {
     "name": "stdout",
     "output_type": "stream",
     "text": [
      "x =  4   y =  2   pos element =  +\n",
      "x =  6   y =  6   pos element =  *\n",
      "x =  4   y =  8   pos element =  +\n",
      "x =  36   y =  12   pos element =  -\n"
     ]
    },
    {
     "data": {
      "text/plain": [
       "24"
      ]
     },
     "execution_count": 38,
     "metadata": {},
     "output_type": "execute_result"
    }
   ],
   "source": [
    "evalExpr(SLBT1.root)"
   ]
  },
  {
   "cell_type": "code",
   "execution_count": null,
   "metadata": {},
   "outputs": [],
   "source": []
  }
 ],
 "metadata": {
  "kernelspec": {
   "display_name": "Python 3",
   "language": "python",
   "name": "python3"
  },
  "language_info": {
   "codemirror_mode": {
    "name": "ipython",
    "version": 3
   },
   "file_extension": ".py",
   "mimetype": "text/x-python",
   "name": "python",
   "nbconvert_exporter": "python",
   "pygments_lexer": "ipython3",
   "version": "3.7.3"
  }
 },
 "nbformat": 4,
 "nbformat_minor": 2
}
