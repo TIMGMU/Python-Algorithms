{
 "cells": [
  {
   "cell_type": "markdown",
   "id": "00275eec-677e-49bd-9044-1ffb164f1fd9",
   "metadata": {},
   "source": [
    "In Class Assignment 1"
   ]
  },
  {
   "cell_type": "markdown",
   "id": "4f525422-9318-4648-9f1e-30633894d0ce",
   "metadata": {},
   "source": [
    "Tim Nguyen IT 309-01 9/19/2023"
   ]
  },
  {
   "cell_type": "code",
   "execution_count": 28,
   "id": "789cae23-21b1-4d11-86bc-83d1b3086938",
   "metadata": {},
   "outputs": [
    {
     "name": "stdout",
     "output_type": "stream",
     "text": [
      "First Stack Tokens:\n",
      "24 4 / 6 2 * +\n",
      "7 6 * 15 +\n",
      "3 4 +\n"
     ]
    }
   ],
   "source": [
    "# Expression assigned to A\n",
    "A = (\"3 4 +\", \"7 6 * 15 +\", \"24 4 / 6 2 * +\")\n",
    "\n",
    "\n",
    "\n",
    "#---------------------------------------------------------------------------\n",
    "# ArrayStack class - from Wiley source\n",
    "# modified by GRS 09/01/2019 for IT-309\n",
    "#---------------------------------------------------------------------------\n",
    "class ArrayStack:\n",
    "  \"\"\"LIFO Stack implementation using a Python list as underlying storage.\"\"\"\n",
    "\n",
    "  def __init__(self):\n",
    "    \"\"\"Create an empty stack.\"\"\"\n",
    "    self._data = []                       # nonpublic list instance\n",
    "\n",
    "  def __len__(self):\n",
    "    \"\"\"Return the number of elements in the stack.\"\"\"\n",
    "    return len(self._data)\n",
    "\n",
    "  def is_empty(self):\n",
    "    \"\"\"Return True if the stack is empty.\"\"\"\n",
    "    return len(self._data) == 0\n",
    "\n",
    "  def push(self, e):\n",
    "    \"\"\"Add element e to the top of the stack.\"\"\"\n",
    "    self._data.append(e)                  # new item stored at end of list\n",
    "\n",
    "  def top(self):\n",
    "    \"\"\"Return (but do not remove) the element at the top of the stack.\n",
    "    Raise Empty exception if the stack is empty.\n",
    "    \"\"\"\n",
    "    if self.is_empty():\n",
    "      raise Empty('Stack is empty')\n",
    "    return self._data[-1]                 # the last item in the list\n",
    "\n",
    "  def pop(self):\n",
    "    \"\"\"Remove and return the element from the top of the stack (i.e., LIFO).\n",
    "    Raise Empty exception if the stack is empty.\n",
    "    \"\"\"\n",
    "    if self.is_empty():\n",
    "      raise Empty('Stack is empty')\n",
    "    return self._data.pop()               # remove last item from list\n",
    "\n",
    "  def showStack(self):                    # Added by GRS to display stack contents\n",
    "    \"\"\" Display the contents of the stack top to bottom, without 'pop'. \"\"\"\n",
    "    print('\\nContents of stack from top to bottom:')\n",
    "    for s in range(len(self._data) - 1, -1, -1):\n",
    "      print(self._data[s])\n",
    "    \n",
    "class Empty(Exception):\n",
    "  \"\"\"Simple 'Empty' exception - used as message pass-through. GRS \"\"\"\n",
    "  pass\n",
    "\n",
    "\n",
    "# Execution of expression\n",
    "S = ArrayStack()    #Create stack referring to class above\n",
    "for i in A:\n",
    "    if i.isdigit():    #If the string is a digit, convert it into int, --\n",
    "        S.push(int(i))     #Then push the int into S\n",
    "    else:\n",
    "        S.push(i)      #Pushing iterable into S if it is not a digit\n",
    "print(\"First Stack Tokens:\")\n",
    "while not S.is_empty():     #While S is NOT empty, keep popping\n",
    "    print(S.pop())          "
   ]
  },
  {
   "cell_type": "code",
   "execution_count": null,
   "id": "33cfcf41-2afc-4e0d-9523-e0a7f5333697",
   "metadata": {},
   "outputs": [],
   "source": []
  },
  {
   "cell_type": "code",
   "execution_count": null,
   "id": "69e76454-9c7d-4df0-aac5-2f161070f861",
   "metadata": {},
   "outputs": [],
   "source": []
  }
 ],
 "metadata": {
  "kernelspec": {
   "display_name": "Python 3 (ipykernel)",
   "language": "python",
   "name": "python3"
  },
  "language_info": {
   "codemirror_mode": {
    "name": "ipython",
    "version": 3
   },
   "file_extension": ".py",
   "mimetype": "text/x-python",
   "name": "python",
   "nbconvert_exporter": "python",
   "pygments_lexer": "ipython3",
   "version": "3.11.5"
  }
 },
 "nbformat": 4,
 "nbformat_minor": 5
}
